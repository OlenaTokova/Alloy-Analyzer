{
 "cells": [
  {
   "cell_type": "markdown",
   "metadata": {},
   "source": [
    "To clean the dataset  which is assumed to contain various measurements for metals and their alloys, we'll follow a general approach suitable for many types of data cleaning tasks. This Python code will use pandas, a powerful data manipulation library. The steps will include loading the data, handling missing values, removing duplicates, and possibly converting data types as needed."
   ]
  },
  {
   "cell_type": "code",
   "execution_count": 5,
   "metadata": {},
   "outputs": [],
   "source": [
    "import pandas as pd\n",
    "\n",
    "# Load the dataset\n",
    "file_path = '/mnt/data/metals_data.csv'\n",
    "data = pd.read_csv('C:\\\\Users\\\\Elena\\\\Documents\\\\GitHub\\\\steel_strength\\\\metals_data.csv')\n"
   ]
  },
  {
   "cell_type": "code",
   "execution_count": 6,
   "metadata": {},
   "outputs": [
    {
     "name": "stdout",
     "output_type": "stream",
     "text": [
      "<class 'pandas.core.frame.DataFrame'>\n",
      "RangeIndex: 312 entries, 0 to 311\n",
      "Data columns (total 13 columns):\n",
      " #   Column  Non-Null Count  Dtype  \n",
      "---  ------  --------------  -----  \n",
      " 0   c       312 non-null    float64\n",
      " 1   mn      312 non-null    float64\n",
      " 2   si      312 non-null    float64\n",
      " 3   cr      312 non-null    float64\n",
      " 4   ni      312 non-null    float64\n",
      " 5   mo      312 non-null    float64\n",
      " 6   v       312 non-null    float64\n",
      " 7   n       312 non-null    float64\n",
      " 8   nb      312 non-null    float64\n",
      " 9   co      312 non-null    float64\n",
      " 10  w       312 non-null    float64\n",
      " 11  al      312 non-null    float64\n",
      " 12  ti      312 non-null    float64\n",
      "dtypes: float64(13)\n",
      "memory usage: 31.8 KB\n",
      "None\n",
      "      c    mn    si     cr     ni    mo     v     n    nb     co     w    al  \\\n",
      "0  0.02  0.05  0.05   0.01  19.70  2.95  0.01  0.00  0.01  15.00  0.00  0.15   \n",
      "1  0.18  0.01  0.01  13.44   0.01  3.01  0.46  0.04  0.01  19.46  2.35  0.04   \n",
      "2  0.00  0.01  0.01   8.67  13.45  0.82  0.01  0.00  0.01  13.90  0.00  0.39   \n",
      "3  0.01  0.05  0.05   0.01  17.70  3.95  0.01  0.00  0.01  15.00  0.00  0.13   \n",
      "4  0.01  0.05  0.05   0.01  19.40  1.45  0.01  0.00  0.01  14.90  0.00  0.13   \n",
      "\n",
      "     ti  \n",
      "0  1.55  \n",
      "1  0.00  \n",
      "2  0.57  \n",
      "3  1.47  \n",
      "4  1.55  \n"
     ]
    }
   ],
   "source": [
    "# Display basic information and first few rows of the dataset\n",
    "print(data.info())\n",
    "print(data.head())\n"
   ]
  },
  {
   "cell_type": "code",
   "execution_count": 10,
   "metadata": {},
   "outputs": [
    {
     "name": "stdout",
     "output_type": "stream",
     "text": [
      "Data cleaning complete. Cleaned data saved to: C:\\Users\\Elena\\Documents\\GitHub\\steel_strength\\metals_data_cleaned.csv\n"
     ]
    }
   ],
   "source": [
    "# Handle missing values. Options: fill with mean, median, or drop rows/columns\n",
    "# This example fills missing numeric values with the mean\n",
    "for col in data.select_dtypes(include=['float64', 'int64']).columns:\n",
    "    data[col] = data[col].fillna(data[col].mean())\n",
    "\n",
    "# For categorical data, you might fill missing values with the mode or a placeholder\n",
    "# Example: data['category_column'] = data['category_column'].fillna('unknown')\n",
    "\n",
    "# Remove duplicate rows, if any\n",
    "data = data.drop_duplicates()\n",
    "\n",
    "# Convert data types, if necessary\n",
    "# Example: data['some_column'] = data['some_column'].astype('int64')\n",
    "\n",
    "# Save the cleaned data to a new CSV file\n",
    "cleaned_file_path = '/mnt/data/metals_data_cleaned.csv'\n",
    "cleaned_file_path = 'C:\\\\Users\\\\Elena\\\\Documents\\\\GitHub\\\\steel_strength\\\\metals_data_cleaned.csv'\n",
    "data.to_csv(cleaned_file_path, index=False)\n",
    "\n",
    "print(\"Data cleaning complete. Cleaned data saved to:\", cleaned_file_path)\n"
   ]
  }
 ],
 "metadata": {
  "kernelspec": {
   "display_name": "steel_strength",
   "language": "python",
   "name": "python3"
  },
  "language_info": {
   "codemirror_mode": {
    "name": "ipython",
    "version": 3
   },
   "file_extension": ".py",
   "mimetype": "text/x-python",
   "name": "python",
   "nbconvert_exporter": "python",
   "pygments_lexer": "ipython3",
   "version": "3.12.2"
  }
 },
 "nbformat": 4,
 "nbformat_minor": 2
}
