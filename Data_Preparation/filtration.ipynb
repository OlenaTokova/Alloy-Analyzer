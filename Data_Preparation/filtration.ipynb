{
 "cells": [
  {
   "cell_type": "markdown",
   "metadata": {},
   "source": [
    "Example code for Filtering Outliers with IQR"
   ]
  },
  {
   "cell_type": "code",
   "execution_count": 6,
   "metadata": {},
   "outputs": [],
   "source": [
    "import pandas as pd\n",
    "\n",
    "# Load the dataset\n",
    "data = pd.read_csv('C:\\\\Users\\\\Elena\\\\Documents\\\\GitHub\\\\steel_strength\\\\metals_data.csv')"
   ]
  },
  {
   "cell_type": "code",
   "execution_count": 8,
   "metadata": {},
   "outputs": [
    {
     "name": "stdout",
     "output_type": "stream",
     "text": [
      "Index(['c', 'mn', 'si', 'cr', 'ni', 'mo', 'v', 'n', 'nb', 'co', 'w', 'al',\n",
      "       'ti'],\n",
      "      dtype='object')\n"
     ]
    }
   ],
   "source": [
    "print(data.columns)"
   ]
  },
  {
   "cell_type": "code",
   "execution_count": 9,
   "metadata": {},
   "outputs": [],
   "source": [
    "\n",
    "# Assuming 'c' is a numeric column in your dataset\n",
    "\n",
    "Q1 = data['c'].quantile(0.25)\n",
    "Q3 = data['c'].quantile(0.75)\n",
    "IQR = Q3 - Q1\n"
   ]
  },
  {
   "cell_type": "code",
   "execution_count": 11,
   "metadata": {},
   "outputs": [
    {
     "name": "stdout",
     "output_type": "stream",
     "text": [
      "Original data points: 312, Filtered data points: 312\n"
     ]
    }
   ],
   "source": [
    "\n",
    "# Filter out outliers\n",
    "#filtered_data = data.query('(@Q1 - 1.5 * @IQR) <= x1 <= (@Q3 + 1.5 * @IQR)')\n",
    "filtered_data = data.query('(@Q1 - 1.5 * @IQR) <= c <= (@Q3 + 1.5 * @IQR)')\n",
    "print(f\"Original data points: {len(data)}, Filtered data points: {len(filtered_data)}\")\n"
   ]
  }
 ],
 "metadata": {
  "kernelspec": {
   "display_name": "steel_strength",
   "language": "python",
   "name": "python3"
  },
  "language_info": {
   "codemirror_mode": {
    "name": "ipython",
    "version": 3
   },
   "file_extension": ".py",
   "mimetype": "text/x-python",
   "name": "python",
   "nbconvert_exporter": "python",
   "pygments_lexer": "ipython3",
   "version": "3.12.2"
  }
 },
 "nbformat": 4,
 "nbformat_minor": 2
}
