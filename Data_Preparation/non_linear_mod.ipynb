{
 "cells": [
  {
   "cell_type": "code",
   "execution_count": 3,
   "metadata": {},
   "outputs": [],
   "source": [
    "import pandas as pd\n",
    "from sklearn.preprocessing import MinMaxScaler\n",
    "from sklearn.model_selection import train_test_split\n",
    "from sklearn.ensemble import RandomForestRegressor\n",
    "from sklearn.metrics import mean_squared_error, r2_score\n",
    "import matplotlib.pyplot as plt\n"
   ]
  },
  {
   "cell_type": "code",
   "execution_count": 4,
   "metadata": {},
   "outputs": [],
   "source": [
    "import plotly.express as px\n",
    "import plotly.graph_objects as go\n",
    "import plotly.offline as pyo\n",
    "#import dash "
   ]
  },
  {
   "cell_type": "code",
   "execution_count": 5,
   "metadata": {},
   "outputs": [
    {
     "data": {
      "text/html": [
       "<div>\n",
       "<style scoped>\n",
       "    .dataframe tbody tr th:only-of-type {\n",
       "        vertical-align: middle;\n",
       "    }\n",
       "\n",
       "    .dataframe tbody tr th {\n",
       "        vertical-align: top;\n",
       "    }\n",
       "\n",
       "    .dataframe thead th {\n",
       "        text-align: right;\n",
       "    }\n",
       "</style>\n",
       "<table border=\"1\" class=\"dataframe\">\n",
       "  <thead>\n",
       "    <tr style=\"text-align: right;\">\n",
       "      <th></th>\n",
       "      <th>c</th>\n",
       "      <th>mn</th>\n",
       "      <th>si</th>\n",
       "      <th>cr</th>\n",
       "      <th>ni</th>\n",
       "      <th>mo</th>\n",
       "      <th>v</th>\n",
       "      <th>n</th>\n",
       "      <th>nb</th>\n",
       "      <th>co</th>\n",
       "      <th>w</th>\n",
       "      <th>al</th>\n",
       "      <th>ti</th>\n",
       "    </tr>\n",
       "  </thead>\n",
       "  <tbody>\n",
       "    <tr>\n",
       "      <th>0</th>\n",
       "      <td>0.02</td>\n",
       "      <td>0.05</td>\n",
       "      <td>0.05</td>\n",
       "      <td>0.01</td>\n",
       "      <td>19.70</td>\n",
       "      <td>2.95</td>\n",
       "      <td>0.01</td>\n",
       "      <td>0.00</td>\n",
       "      <td>0.01</td>\n",
       "      <td>15.00</td>\n",
       "      <td>0.00</td>\n",
       "      <td>0.15</td>\n",
       "      <td>1.55</td>\n",
       "    </tr>\n",
       "    <tr>\n",
       "      <th>1</th>\n",
       "      <td>0.18</td>\n",
       "      <td>0.01</td>\n",
       "      <td>0.01</td>\n",
       "      <td>13.44</td>\n",
       "      <td>0.01</td>\n",
       "      <td>3.01</td>\n",
       "      <td>0.46</td>\n",
       "      <td>0.04</td>\n",
       "      <td>0.01</td>\n",
       "      <td>19.46</td>\n",
       "      <td>2.35</td>\n",
       "      <td>0.04</td>\n",
       "      <td>0.00</td>\n",
       "    </tr>\n",
       "    <tr>\n",
       "      <th>2</th>\n",
       "      <td>0.00</td>\n",
       "      <td>0.01</td>\n",
       "      <td>0.01</td>\n",
       "      <td>8.67</td>\n",
       "      <td>13.45</td>\n",
       "      <td>0.82</td>\n",
       "      <td>0.01</td>\n",
       "      <td>0.00</td>\n",
       "      <td>0.01</td>\n",
       "      <td>13.90</td>\n",
       "      <td>0.00</td>\n",
       "      <td>0.39</td>\n",
       "      <td>0.57</td>\n",
       "    </tr>\n",
       "    <tr>\n",
       "      <th>3</th>\n",
       "      <td>0.01</td>\n",
       "      <td>0.05</td>\n",
       "      <td>0.05</td>\n",
       "      <td>0.01</td>\n",
       "      <td>17.70</td>\n",
       "      <td>3.95</td>\n",
       "      <td>0.01</td>\n",
       "      <td>0.00</td>\n",
       "      <td>0.01</td>\n",
       "      <td>15.00</td>\n",
       "      <td>0.00</td>\n",
       "      <td>0.13</td>\n",
       "      <td>1.47</td>\n",
       "    </tr>\n",
       "    <tr>\n",
       "      <th>4</th>\n",
       "      <td>0.01</td>\n",
       "      <td>0.05</td>\n",
       "      <td>0.05</td>\n",
       "      <td>0.01</td>\n",
       "      <td>19.40</td>\n",
       "      <td>1.45</td>\n",
       "      <td>0.01</td>\n",
       "      <td>0.00</td>\n",
       "      <td>0.01</td>\n",
       "      <td>14.90</td>\n",
       "      <td>0.00</td>\n",
       "      <td>0.13</td>\n",
       "      <td>1.55</td>\n",
       "    </tr>\n",
       "    <tr>\n",
       "      <th>...</th>\n",
       "      <td>...</td>\n",
       "      <td>...</td>\n",
       "      <td>...</td>\n",
       "      <td>...</td>\n",
       "      <td>...</td>\n",
       "      <td>...</td>\n",
       "      <td>...</td>\n",
       "      <td>...</td>\n",
       "      <td>...</td>\n",
       "      <td>...</td>\n",
       "      <td>...</td>\n",
       "      <td>...</td>\n",
       "      <td>...</td>\n",
       "    </tr>\n",
       "    <tr>\n",
       "      <th>307</th>\n",
       "      <td>0.38</td>\n",
       "      <td>0.18</td>\n",
       "      <td>0.01</td>\n",
       "      <td>7.27</td>\n",
       "      <td>0.01</td>\n",
       "      <td>3.77</td>\n",
       "      <td>0.96</td>\n",
       "      <td>0.00</td>\n",
       "      <td>0.01</td>\n",
       "      <td>4.90</td>\n",
       "      <td>0.00</td>\n",
       "      <td>0.03</td>\n",
       "      <td>0.00</td>\n",
       "    </tr>\n",
       "    <tr>\n",
       "      <th>308</th>\n",
       "      <td>0.00</td>\n",
       "      <td>0.06</td>\n",
       "      <td>0.05</td>\n",
       "      <td>5.15</td>\n",
       "      <td>10.20</td>\n",
       "      <td>3.20</td>\n",
       "      <td>0.01</td>\n",
       "      <td>0.00</td>\n",
       "      <td>0.01</td>\n",
       "      <td>0.01</td>\n",
       "      <td>0.00</td>\n",
       "      <td>0.03</td>\n",
       "      <td>0.09</td>\n",
       "    </tr>\n",
       "    <tr>\n",
       "      <th>309</th>\n",
       "      <td>0.37</td>\n",
       "      <td>0.17</td>\n",
       "      <td>0.01</td>\n",
       "      <td>5.20</td>\n",
       "      <td>0.01</td>\n",
       "      <td>5.84</td>\n",
       "      <td>1.05</td>\n",
       "      <td>0.00</td>\n",
       "      <td>0.91</td>\n",
       "      <td>4.88</td>\n",
       "      <td>0.00</td>\n",
       "      <td>0.03</td>\n",
       "      <td>0.00</td>\n",
       "    </tr>\n",
       "    <tr>\n",
       "      <th>310</th>\n",
       "      <td>0.41</td>\n",
       "      <td>0.19</td>\n",
       "      <td>0.01</td>\n",
       "      <td>6.99</td>\n",
       "      <td>0.01</td>\n",
       "      <td>5.84</td>\n",
       "      <td>0.92</td>\n",
       "      <td>0.00</td>\n",
       "      <td>0.01</td>\n",
       "      <td>0.02</td>\n",
       "      <td>0.00</td>\n",
       "      <td>0.03</td>\n",
       "      <td>0.00</td>\n",
       "    </tr>\n",
       "    <tr>\n",
       "      <th>311</th>\n",
       "      <td>0.27</td>\n",
       "      <td>0.27</td>\n",
       "      <td>0.01</td>\n",
       "      <td>0.41</td>\n",
       "      <td>8.28</td>\n",
       "      <td>0.49</td>\n",
       "      <td>0.07</td>\n",
       "      <td>0.00</td>\n",
       "      <td>0.01</td>\n",
       "      <td>3.90</td>\n",
       "      <td>0.00</td>\n",
       "      <td>0.03</td>\n",
       "      <td>0.00</td>\n",
       "    </tr>\n",
       "  </tbody>\n",
       "</table>\n",
       "<p>312 rows × 13 columns</p>\n",
       "</div>"
      ],
      "text/plain": [
       "        c    mn    si     cr     ni    mo     v     n    nb     co     w  \\\n",
       "0    0.02  0.05  0.05   0.01  19.70  2.95  0.01  0.00  0.01  15.00  0.00   \n",
       "1    0.18  0.01  0.01  13.44   0.01  3.01  0.46  0.04  0.01  19.46  2.35   \n",
       "2    0.00  0.01  0.01   8.67  13.45  0.82  0.01  0.00  0.01  13.90  0.00   \n",
       "3    0.01  0.05  0.05   0.01  17.70  3.95  0.01  0.00  0.01  15.00  0.00   \n",
       "4    0.01  0.05  0.05   0.01  19.40  1.45  0.01  0.00  0.01  14.90  0.00   \n",
       "..    ...   ...   ...    ...    ...   ...   ...   ...   ...    ...   ...   \n",
       "307  0.38  0.18  0.01   7.27   0.01  3.77  0.96  0.00  0.01   4.90  0.00   \n",
       "308  0.00  0.06  0.05   5.15  10.20  3.20  0.01  0.00  0.01   0.01  0.00   \n",
       "309  0.37  0.17  0.01   5.20   0.01  5.84  1.05  0.00  0.91   4.88  0.00   \n",
       "310  0.41  0.19  0.01   6.99   0.01  5.84  0.92  0.00  0.01   0.02  0.00   \n",
       "311  0.27  0.27  0.01   0.41   8.28  0.49  0.07  0.00  0.01   3.90  0.00   \n",
       "\n",
       "       al    ti  \n",
       "0    0.15  1.55  \n",
       "1    0.04  0.00  \n",
       "2    0.39  0.57  \n",
       "3    0.13  1.47  \n",
       "4    0.13  1.55  \n",
       "..    ...   ...  \n",
       "307  0.03  0.00  \n",
       "308  0.03  0.09  \n",
       "309  0.03  0.00  \n",
       "310  0.03  0.00  \n",
       "311  0.03  0.00  \n",
       "\n",
       "[312 rows x 13 columns]"
      ]
     },
     "execution_count": 5,
     "metadata": {},
     "output_type": "execute_result"
    }
   ],
   "source": [
    "# Load the dataset as a CSV file into a Pandas DataFrame\n",
    "data_path = '/Users/Elena/Documents/GitHub/steel_strength/metals_data.csv'  # Update this path\n",
    "data_csv_df = pd.read_csv(data_path)\n",
    "data_csv_df"
   ]
  },
  {
   "cell_type": "code",
   "execution_count": 6,
   "metadata": {},
   "outputs": [
    {
     "data": {
      "text/plain": [
       "pandas.core.frame.DataFrame"
      ]
     },
     "execution_count": 6,
     "metadata": {},
     "output_type": "execute_result"
    }
   ],
   "source": [
    "type(data_csv_df)"
   ]
  },
  {
   "cell_type": "code",
   "execution_count": 7,
   "metadata": {},
   "outputs": [
    {
     "name": "stdout",
     "output_type": "stream",
     "text": [
      "<class 'pandas.core.frame.DataFrame'>\n",
      "RangeIndex: 312 entries, 0 to 311\n",
      "Data columns (total 13 columns):\n",
      " #   Column  Non-Null Count  Dtype  \n",
      "---  ------  --------------  -----  \n",
      " 0   c       312 non-null    float64\n",
      " 1   mn      312 non-null    float64\n",
      " 2   si      312 non-null    float64\n",
      " 3   cr      312 non-null    float64\n",
      " 4   ni      312 non-null    float64\n",
      " 5   mo      312 non-null    float64\n",
      " 6   v       312 non-null    float64\n",
      " 7   n       312 non-null    float64\n",
      " 8   nb      312 non-null    float64\n",
      " 9   co      312 non-null    float64\n",
      " 10  w       312 non-null    float64\n",
      " 11  al      312 non-null    float64\n",
      " 12  ti      312 non-null    float64\n",
      "dtypes: float64(13)\n",
      "memory usage: 31.8 KB\n"
     ]
    }
   ],
   "source": [
    "data_csv_df.info()"
   ]
  },
  {
   "cell_type": "code",
   "execution_count": 8,
   "metadata": {},
   "outputs": [
    {
     "name": "stdout",
     "output_type": "stream",
     "text": [
      "data_xlsx_df: (312, 13) rows and columns\n",
      "data_xlsx_df: Index(['c', 'mn', 'si', 'cr', 'ni', 'mo', 'v', 'n', 'nb', 'co', 'w', 'al',\n",
      "       'ti'],\n",
      "      dtype='object') column names\n",
      "data_xlsx_df: RangeIndex(start=0, stop=312, step=1) row indices\n",
      "\n",
      "data_xlsx_df: c     float64\n",
      "mn    float64\n",
      "si    float64\n",
      "cr    float64\n",
      "ni    float64\n",
      "mo    float64\n",
      "v     float64\n",
      "n     float64\n",
      "nb    float64\n",
      "co    float64\n",
      "w     float64\n",
      "al    float64\n",
      "ti    float64\n",
      "dtype: object data types\n",
      "\n",
      "<class 'pandas.core.frame.DataFrame'>\n",
      "RangeIndex: 312 entries, 0 to 311\n",
      "Data columns (total 13 columns):\n",
      " #   Column  Non-Null Count  Dtype  \n",
      "---  ------  --------------  -----  \n",
      " 0   c       312 non-null    float64\n",
      " 1   mn      312 non-null    float64\n",
      " 2   si      312 non-null    float64\n",
      " 3   cr      312 non-null    float64\n",
      " 4   ni      312 non-null    float64\n",
      " 5   mo      312 non-null    float64\n",
      " 6   v       312 non-null    float64\n",
      " 7   n       312 non-null    float64\n",
      " 8   nb      312 non-null    float64\n",
      " 9   co      312 non-null    float64\n",
      " 10  w       312 non-null    float64\n",
      " 11  al      312 non-null    float64\n",
      " 12  ti      312 non-null    float64\n",
      "dtypes: float64(13)\n",
      "memory usage: 31.8 KB\n",
      "data_xlsx_df: None dataframe profile information\n",
      "\n",
      "data_xlsx_df:                 c          mn          si          cr          ni          mo  \\\n",
      "count  312.000000  312.000000  312.000000  312.000000  312.000000  312.000000   \n",
      "mean     0.096442    0.146250    0.221218    8.043830    8.184006    2.766090   \n",
      "std      0.109008    0.397102    0.580796    5.426169    6.337055    1.832908   \n",
      "min      0.000000    0.010000    0.010000    0.010000    0.010000    0.020000   \n",
      "25%      0.010000    0.010000    0.010000    3.100000    0.960000    1.500000   \n",
      "50%      0.030000    0.010000    0.010000    9.050000    8.500000    2.210000   \n",
      "75%      0.182500    0.080000    0.110000   12.520000   12.117500    4.090000   \n",
      "max      0.430000    3.000000    4.750000   17.500000   21.000000    9.670000   \n",
      "\n",
      "                v           n          nb          co           w          al  \\\n",
      "count  312.000000  312.000000  312.000000  312.000000  312.000000  312.000000   \n",
      "mean     0.183750    0.005545    0.035449    7.008782    0.161282    0.239135   \n",
      "std      0.452462    0.018331    0.161537    6.254431    0.920211    0.340110   \n",
      "min      0.000000    0.000000    0.000000    0.010000    0.000000    0.010000   \n",
      "25%      0.010000    0.000000    0.010000    0.010000    0.000000    0.030000   \n",
      "50%      0.010000    0.000000    0.010000    7.085000    0.000000    0.050000   \n",
      "75%      0.127500    0.000000    0.010000   13.480000    0.000000    0.300000   \n",
      "max      4.320000    0.150000    2.500000   20.100000    9.180000    1.800000   \n",
      "\n",
      "               ti  \n",
      "count  312.000000  \n",
      "mean     0.310897  \n",
      "std      0.556593  \n",
      "min      0.000000  \n",
      "25%      0.000000  \n",
      "50%      0.030000  \n",
      "75%      0.232500  \n",
      "max      2.500000   descriptive statistics for the dataframe (for numeric columns)\n",
      "\n",
      "data_xlsx_df:       c    mn    si     cr     ni    mo     v     n    nb     co     w    al  \\\n",
      "0  0.02  0.05  0.05   0.01  19.70  2.95  0.01  0.00  0.01  15.00  0.00  0.15   \n",
      "1  0.18  0.01  0.01  13.44   0.01  3.01  0.46  0.04  0.01  19.46  2.35  0.04   \n",
      "2  0.00  0.01  0.01   8.67  13.45  0.82  0.01  0.00  0.01  13.90  0.00  0.39   \n",
      "3  0.01  0.05  0.05   0.01  17.70  3.95  0.01  0.00  0.01  15.00  0.00  0.13   \n",
      "4  0.01  0.05  0.05   0.01  19.40  1.45  0.01  0.00  0.01  14.90  0.00  0.13   \n",
      "\n",
      "     ti  \n",
      "0  1.55  \n",
      "1  0.00  \n",
      "2  0.57  \n",
      "3  1.47  \n",
      "4  1.55   data types \n",
      "\n",
      "\n"
     ]
    },
    {
     "data": {
      "text/html": [
       "<div>\n",
       "<style scoped>\n",
       "    .dataframe tbody tr th:only-of-type {\n",
       "        vertical-align: middle;\n",
       "    }\n",
       "\n",
       "    .dataframe tbody tr th {\n",
       "        vertical-align: top;\n",
       "    }\n",
       "\n",
       "    .dataframe thead th {\n",
       "        text-align: right;\n",
       "    }\n",
       "</style>\n",
       "<table border=\"1\" class=\"dataframe\">\n",
       "  <thead>\n",
       "    <tr style=\"text-align: right;\">\n",
       "      <th></th>\n",
       "      <th>c</th>\n",
       "      <th>mn</th>\n",
       "      <th>si</th>\n",
       "      <th>cr</th>\n",
       "      <th>ni</th>\n",
       "      <th>mo</th>\n",
       "      <th>v</th>\n",
       "      <th>n</th>\n",
       "      <th>nb</th>\n",
       "      <th>co</th>\n",
       "      <th>w</th>\n",
       "      <th>al</th>\n",
       "      <th>ti</th>\n",
       "    </tr>\n",
       "  </thead>\n",
       "  <tbody>\n",
       "    <tr>\n",
       "      <th>0</th>\n",
       "      <td>0.02</td>\n",
       "      <td>0.05</td>\n",
       "      <td>0.05</td>\n",
       "      <td>0.01</td>\n",
       "      <td>19.70</td>\n",
       "      <td>2.95</td>\n",
       "      <td>0.01</td>\n",
       "      <td>0.00</td>\n",
       "      <td>0.01</td>\n",
       "      <td>15.00</td>\n",
       "      <td>0.00</td>\n",
       "      <td>0.15</td>\n",
       "      <td>1.55</td>\n",
       "    </tr>\n",
       "    <tr>\n",
       "      <th>1</th>\n",
       "      <td>0.18</td>\n",
       "      <td>0.01</td>\n",
       "      <td>0.01</td>\n",
       "      <td>13.44</td>\n",
       "      <td>0.01</td>\n",
       "      <td>3.01</td>\n",
       "      <td>0.46</td>\n",
       "      <td>0.04</td>\n",
       "      <td>0.01</td>\n",
       "      <td>19.46</td>\n",
       "      <td>2.35</td>\n",
       "      <td>0.04</td>\n",
       "      <td>0.00</td>\n",
       "    </tr>\n",
       "    <tr>\n",
       "      <th>2</th>\n",
       "      <td>0.00</td>\n",
       "      <td>0.01</td>\n",
       "      <td>0.01</td>\n",
       "      <td>8.67</td>\n",
       "      <td>13.45</td>\n",
       "      <td>0.82</td>\n",
       "      <td>0.01</td>\n",
       "      <td>0.00</td>\n",
       "      <td>0.01</td>\n",
       "      <td>13.90</td>\n",
       "      <td>0.00</td>\n",
       "      <td>0.39</td>\n",
       "      <td>0.57</td>\n",
       "    </tr>\n",
       "    <tr>\n",
       "      <th>3</th>\n",
       "      <td>0.01</td>\n",
       "      <td>0.05</td>\n",
       "      <td>0.05</td>\n",
       "      <td>0.01</td>\n",
       "      <td>17.70</td>\n",
       "      <td>3.95</td>\n",
       "      <td>0.01</td>\n",
       "      <td>0.00</td>\n",
       "      <td>0.01</td>\n",
       "      <td>15.00</td>\n",
       "      <td>0.00</td>\n",
       "      <td>0.13</td>\n",
       "      <td>1.47</td>\n",
       "    </tr>\n",
       "    <tr>\n",
       "      <th>4</th>\n",
       "      <td>0.01</td>\n",
       "      <td>0.05</td>\n",
       "      <td>0.05</td>\n",
       "      <td>0.01</td>\n",
       "      <td>19.40</td>\n",
       "      <td>1.45</td>\n",
       "      <td>0.01</td>\n",
       "      <td>0.00</td>\n",
       "      <td>0.01</td>\n",
       "      <td>14.90</td>\n",
       "      <td>0.00</td>\n",
       "      <td>0.13</td>\n",
       "      <td>1.55</td>\n",
       "    </tr>\n",
       "    <tr>\n",
       "      <th>...</th>\n",
       "      <td>...</td>\n",
       "      <td>...</td>\n",
       "      <td>...</td>\n",
       "      <td>...</td>\n",
       "      <td>...</td>\n",
       "      <td>...</td>\n",
       "      <td>...</td>\n",
       "      <td>...</td>\n",
       "      <td>...</td>\n",
       "      <td>...</td>\n",
       "      <td>...</td>\n",
       "      <td>...</td>\n",
       "      <td>...</td>\n",
       "    </tr>\n",
       "    <tr>\n",
       "      <th>307</th>\n",
       "      <td>0.38</td>\n",
       "      <td>0.18</td>\n",
       "      <td>0.01</td>\n",
       "      <td>7.27</td>\n",
       "      <td>0.01</td>\n",
       "      <td>3.77</td>\n",
       "      <td>0.96</td>\n",
       "      <td>0.00</td>\n",
       "      <td>0.01</td>\n",
       "      <td>4.90</td>\n",
       "      <td>0.00</td>\n",
       "      <td>0.03</td>\n",
       "      <td>0.00</td>\n",
       "    </tr>\n",
       "    <tr>\n",
       "      <th>308</th>\n",
       "      <td>0.00</td>\n",
       "      <td>0.06</td>\n",
       "      <td>0.05</td>\n",
       "      <td>5.15</td>\n",
       "      <td>10.20</td>\n",
       "      <td>3.20</td>\n",
       "      <td>0.01</td>\n",
       "      <td>0.00</td>\n",
       "      <td>0.01</td>\n",
       "      <td>0.01</td>\n",
       "      <td>0.00</td>\n",
       "      <td>0.03</td>\n",
       "      <td>0.09</td>\n",
       "    </tr>\n",
       "    <tr>\n",
       "      <th>309</th>\n",
       "      <td>0.37</td>\n",
       "      <td>0.17</td>\n",
       "      <td>0.01</td>\n",
       "      <td>5.20</td>\n",
       "      <td>0.01</td>\n",
       "      <td>5.84</td>\n",
       "      <td>1.05</td>\n",
       "      <td>0.00</td>\n",
       "      <td>0.91</td>\n",
       "      <td>4.88</td>\n",
       "      <td>0.00</td>\n",
       "      <td>0.03</td>\n",
       "      <td>0.00</td>\n",
       "    </tr>\n",
       "    <tr>\n",
       "      <th>310</th>\n",
       "      <td>0.41</td>\n",
       "      <td>0.19</td>\n",
       "      <td>0.01</td>\n",
       "      <td>6.99</td>\n",
       "      <td>0.01</td>\n",
       "      <td>5.84</td>\n",
       "      <td>0.92</td>\n",
       "      <td>0.00</td>\n",
       "      <td>0.01</td>\n",
       "      <td>0.02</td>\n",
       "      <td>0.00</td>\n",
       "      <td>0.03</td>\n",
       "      <td>0.00</td>\n",
       "    </tr>\n",
       "    <tr>\n",
       "      <th>311</th>\n",
       "      <td>0.27</td>\n",
       "      <td>0.27</td>\n",
       "      <td>0.01</td>\n",
       "      <td>0.41</td>\n",
       "      <td>8.28</td>\n",
       "      <td>0.49</td>\n",
       "      <td>0.07</td>\n",
       "      <td>0.00</td>\n",
       "      <td>0.01</td>\n",
       "      <td>3.90</td>\n",
       "      <td>0.00</td>\n",
       "      <td>0.03</td>\n",
       "      <td>0.00</td>\n",
       "    </tr>\n",
       "  </tbody>\n",
       "</table>\n",
       "<p>312 rows × 13 columns</p>\n",
       "</div>"
      ],
      "text/plain": [
       "        c    mn    si     cr     ni    mo     v     n    nb     co     w  \\\n",
       "0    0.02  0.05  0.05   0.01  19.70  2.95  0.01  0.00  0.01  15.00  0.00   \n",
       "1    0.18  0.01  0.01  13.44   0.01  3.01  0.46  0.04  0.01  19.46  2.35   \n",
       "2    0.00  0.01  0.01   8.67  13.45  0.82  0.01  0.00  0.01  13.90  0.00   \n",
       "3    0.01  0.05  0.05   0.01  17.70  3.95  0.01  0.00  0.01  15.00  0.00   \n",
       "4    0.01  0.05  0.05   0.01  19.40  1.45  0.01  0.00  0.01  14.90  0.00   \n",
       "..    ...   ...   ...    ...    ...   ...   ...   ...   ...    ...   ...   \n",
       "307  0.38  0.18  0.01   7.27   0.01  3.77  0.96  0.00  0.01   4.90  0.00   \n",
       "308  0.00  0.06  0.05   5.15  10.20  3.20  0.01  0.00  0.01   0.01  0.00   \n",
       "309  0.37  0.17  0.01   5.20   0.01  5.84  1.05  0.00  0.91   4.88  0.00   \n",
       "310  0.41  0.19  0.01   6.99   0.01  5.84  0.92  0.00  0.01   0.02  0.00   \n",
       "311  0.27  0.27  0.01   0.41   8.28  0.49  0.07  0.00  0.01   3.90  0.00   \n",
       "\n",
       "       al    ti  \n",
       "0    0.15  1.55  \n",
       "1    0.04  0.00  \n",
       "2    0.39  0.57  \n",
       "3    0.13  1.47  \n",
       "4    0.13  1.55  \n",
       "..    ...   ...  \n",
       "307  0.03  0.00  \n",
       "308  0.03  0.09  \n",
       "309  0.03  0.00  \n",
       "310  0.03  0.00  \n",
       "311  0.03  0.00  \n",
       "\n",
       "[312 rows x 13 columns]"
      ]
     },
     "execution_count": 8,
     "metadata": {},
     "output_type": "execute_result"
    }
   ],
   "source": [
    "# Load the dataset\n",
    "data_path = '/Users/Elena/Documents/GitHub/steel_strength/metals_data.xlsx'  # Update this path\n",
    "data_xlsx_df = pd.read_excel(data_path)\n",
    "print(f\"data_xlsx_df: {data_xlsx_df.shape} rows and columns\")\n",
    "print(f\"data_xlsx_df: {data_xlsx_df.columns} column names\")\n",
    "print(f\"data_xlsx_df: {data_xlsx_df.index} row indices\")\n",
    "print()\n",
    "print(f\"data_xlsx_df: {data_xlsx_df.dtypes} data types\")\n",
    "print()\n",
    "print(f\"data_xlsx_df: {data_xlsx_df.info()} dataframe profile information\")\n",
    "print()\n",
    "print(f\"data_xlsx_df: {data_xlsx_df.describe()} descriptive statistics for the dataframe (for numeric columns)\") \n",
    "print()\n",
    "print(f\"data_xlsx_df: {data_xlsx_df.head()} data types \\n\\n\")\n",
    "\n",
    "data_xlsx_df"
   ]
  },
  {
   "cell_type": "code",
   "execution_count": 9,
   "metadata": {},
   "outputs": [],
   "source": [
    "# Sort by column: 'co' (descending)\n",
    "data = data_xlsx_df.sort_values(['co'], ascending=[False])"
   ]
  },
  {
   "cell_type": "code",
   "execution_count": 10,
   "metadata": {},
   "outputs": [
    {
     "data": {
      "text/html": [
       "<div>\n",
       "<style scoped>\n",
       "    .dataframe tbody tr th:only-of-type {\n",
       "        vertical-align: middle;\n",
       "    }\n",
       "\n",
       "    .dataframe tbody tr th {\n",
       "        vertical-align: top;\n",
       "    }\n",
       "\n",
       "    .dataframe thead th {\n",
       "        text-align: right;\n",
       "    }\n",
       "</style>\n",
       "<table border=\"1\" class=\"dataframe\">\n",
       "  <thead>\n",
       "    <tr style=\"text-align: right;\">\n",
       "      <th></th>\n",
       "      <th>c</th>\n",
       "      <th>mn</th>\n",
       "      <th>si</th>\n",
       "      <th>cr</th>\n",
       "      <th>ni</th>\n",
       "      <th>mo</th>\n",
       "      <th>v</th>\n",
       "      <th>n</th>\n",
       "      <th>nb</th>\n",
       "      <th>co</th>\n",
       "      <th>w</th>\n",
       "      <th>al</th>\n",
       "      <th>ti</th>\n",
       "    </tr>\n",
       "  </thead>\n",
       "  <tbody>\n",
       "    <tr>\n",
       "      <th>5</th>\n",
       "      <td>0.19</td>\n",
       "      <td>0.02</td>\n",
       "      <td>0.49</td>\n",
       "      <td>12.56</td>\n",
       "      <td>0.94</td>\n",
       "      <td>1.96</td>\n",
       "      <td>0.01</td>\n",
       "      <td>0.00</td>\n",
       "      <td>0.01</td>\n",
       "      <td>20.10</td>\n",
       "      <td>0.00</td>\n",
       "      <td>0.03</td>\n",
       "      <td>0.00</td>\n",
       "    </tr>\n",
       "    <tr>\n",
       "      <th>1</th>\n",
       "      <td>0.18</td>\n",
       "      <td>0.01</td>\n",
       "      <td>0.01</td>\n",
       "      <td>13.44</td>\n",
       "      <td>0.01</td>\n",
       "      <td>3.01</td>\n",
       "      <td>0.46</td>\n",
       "      <td>0.04</td>\n",
       "      <td>0.01</td>\n",
       "      <td>19.46</td>\n",
       "      <td>2.35</td>\n",
       "      <td>0.04</td>\n",
       "      <td>0.00</td>\n",
       "    </tr>\n",
       "    <tr>\n",
       "      <th>85</th>\n",
       "      <td>0.35</td>\n",
       "      <td>0.01</td>\n",
       "      <td>0.01</td>\n",
       "      <td>9.00</td>\n",
       "      <td>1.50</td>\n",
       "      <td>2.00</td>\n",
       "      <td>0.30</td>\n",
       "      <td>0.00</td>\n",
       "      <td>0.01</td>\n",
       "      <td>18.00</td>\n",
       "      <td>0.00</td>\n",
       "      <td>0.03</td>\n",
       "      <td>0.02</td>\n",
       "    </tr>\n",
       "    <tr>\n",
       "      <th>25</th>\n",
       "      <td>0.20</td>\n",
       "      <td>0.01</td>\n",
       "      <td>0.51</td>\n",
       "      <td>12.51</td>\n",
       "      <td>0.95</td>\n",
       "      <td>1.97</td>\n",
       "      <td>0.01</td>\n",
       "      <td>0.00</td>\n",
       "      <td>0.08</td>\n",
       "      <td>17.06</td>\n",
       "      <td>0.00</td>\n",
       "      <td>0.03</td>\n",
       "      <td>0.00</td>\n",
       "    </tr>\n",
       "    <tr>\n",
       "      <th>15</th>\n",
       "      <td>0.20</td>\n",
       "      <td>0.01</td>\n",
       "      <td>0.01</td>\n",
       "      <td>14.13</td>\n",
       "      <td>0.92</td>\n",
       "      <td>1.99</td>\n",
       "      <td>0.01</td>\n",
       "      <td>0.00</td>\n",
       "      <td>0.08</td>\n",
       "      <td>17.00</td>\n",
       "      <td>0.00</td>\n",
       "      <td>0.03</td>\n",
       "      <td>0.00</td>\n",
       "    </tr>\n",
       "    <tr>\n",
       "      <th>...</th>\n",
       "      <td>...</td>\n",
       "      <td>...</td>\n",
       "      <td>...</td>\n",
       "      <td>...</td>\n",
       "      <td>...</td>\n",
       "      <td>...</td>\n",
       "      <td>...</td>\n",
       "      <td>...</td>\n",
       "      <td>...</td>\n",
       "      <td>...</td>\n",
       "      <td>...</td>\n",
       "      <td>...</td>\n",
       "      <td>...</td>\n",
       "    </tr>\n",
       "    <tr>\n",
       "      <th>227</th>\n",
       "      <td>0.01</td>\n",
       "      <td>0.05</td>\n",
       "      <td>0.09</td>\n",
       "      <td>7.65</td>\n",
       "      <td>12.20</td>\n",
       "      <td>3.05</td>\n",
       "      <td>0.01</td>\n",
       "      <td>0.00</td>\n",
       "      <td>0.01</td>\n",
       "      <td>0.01</td>\n",
       "      <td>0.00</td>\n",
       "      <td>0.46</td>\n",
       "      <td>0.20</td>\n",
       "    </tr>\n",
       "    <tr>\n",
       "      <th>226</th>\n",
       "      <td>0.01</td>\n",
       "      <td>0.12</td>\n",
       "      <td>0.06</td>\n",
       "      <td>10.30</td>\n",
       "      <td>10.20</td>\n",
       "      <td>2.05</td>\n",
       "      <td>0.01</td>\n",
       "      <td>0.00</td>\n",
       "      <td>0.01</td>\n",
       "      <td>0.01</td>\n",
       "      <td>0.00</td>\n",
       "      <td>0.31</td>\n",
       "      <td>0.21</td>\n",
       "    </tr>\n",
       "    <tr>\n",
       "      <th>225</th>\n",
       "      <td>0.01</td>\n",
       "      <td>0.03</td>\n",
       "      <td>0.03</td>\n",
       "      <td>10.20</td>\n",
       "      <td>10.50</td>\n",
       "      <td>2.20</td>\n",
       "      <td>0.01</td>\n",
       "      <td>0.00</td>\n",
       "      <td>0.01</td>\n",
       "      <td>0.01</td>\n",
       "      <td>0.00</td>\n",
       "      <td>0.23</td>\n",
       "      <td>0.24</td>\n",
       "    </tr>\n",
       "    <tr>\n",
       "      <th>224</th>\n",
       "      <td>0.01</td>\n",
       "      <td>0.11</td>\n",
       "      <td>0.18</td>\n",
       "      <td>10.20</td>\n",
       "      <td>10.30</td>\n",
       "      <td>2.05</td>\n",
       "      <td>0.01</td>\n",
       "      <td>0.00</td>\n",
       "      <td>0.01</td>\n",
       "      <td>0.01</td>\n",
       "      <td>0.00</td>\n",
       "      <td>0.27</td>\n",
       "      <td>0.22</td>\n",
       "    </tr>\n",
       "    <tr>\n",
       "      <th>187</th>\n",
       "      <td>0.04</td>\n",
       "      <td>0.01</td>\n",
       "      <td>0.01</td>\n",
       "      <td>12.49</td>\n",
       "      <td>8.30</td>\n",
       "      <td>2.23</td>\n",
       "      <td>0.01</td>\n",
       "      <td>0.00</td>\n",
       "      <td>0.01</td>\n",
       "      <td>0.01</td>\n",
       "      <td>0.00</td>\n",
       "      <td>1.07</td>\n",
       "      <td>0.01</td>\n",
       "    </tr>\n",
       "  </tbody>\n",
       "</table>\n",
       "<p>312 rows × 13 columns</p>\n",
       "</div>"
      ],
      "text/plain": [
       "        c    mn    si     cr     ni    mo     v     n    nb     co     w  \\\n",
       "5    0.19  0.02  0.49  12.56   0.94  1.96  0.01  0.00  0.01  20.10  0.00   \n",
       "1    0.18  0.01  0.01  13.44   0.01  3.01  0.46  0.04  0.01  19.46  2.35   \n",
       "85   0.35  0.01  0.01   9.00   1.50  2.00  0.30  0.00  0.01  18.00  0.00   \n",
       "25   0.20  0.01  0.51  12.51   0.95  1.97  0.01  0.00  0.08  17.06  0.00   \n",
       "15   0.20  0.01  0.01  14.13   0.92  1.99  0.01  0.00  0.08  17.00  0.00   \n",
       "..    ...   ...   ...    ...    ...   ...   ...   ...   ...    ...   ...   \n",
       "227  0.01  0.05  0.09   7.65  12.20  3.05  0.01  0.00  0.01   0.01  0.00   \n",
       "226  0.01  0.12  0.06  10.30  10.20  2.05  0.01  0.00  0.01   0.01  0.00   \n",
       "225  0.01  0.03  0.03  10.20  10.50  2.20  0.01  0.00  0.01   0.01  0.00   \n",
       "224  0.01  0.11  0.18  10.20  10.30  2.05  0.01  0.00  0.01   0.01  0.00   \n",
       "187  0.04  0.01  0.01  12.49   8.30  2.23  0.01  0.00  0.01   0.01  0.00   \n",
       "\n",
       "       al    ti  \n",
       "5    0.03  0.00  \n",
       "1    0.04  0.00  \n",
       "85   0.03  0.02  \n",
       "25   0.03  0.00  \n",
       "15   0.03  0.00  \n",
       "..    ...   ...  \n",
       "227  0.46  0.20  \n",
       "226  0.31  0.21  \n",
       "225  0.23  0.24  \n",
       "224  0.27  0.22  \n",
       "187  1.07  0.01  \n",
       "\n",
       "[312 rows x 13 columns]"
      ]
     },
     "execution_count": 10,
     "metadata": {},
     "output_type": "execute_result"
    }
   ],
   "source": [
    "data"
   ]
  },
  {
   "cell_type": "code",
   "execution_count": 11,
   "metadata": {},
   "outputs": [],
   "source": [
    "# Normalize the dataset\n",
    "scaler = MinMaxScaler()\n",
    "data_normalized = scaler.fit_transform(data)\n",
    "data_normalized_df = pd.DataFrame(data_normalized, columns=data.columns)"
   ]
  },
  {
   "cell_type": "code",
   "execution_count": 12,
   "metadata": {},
   "outputs": [],
   "source": [
    "\n",
    "# Split the dataset into features and target variable\n",
    "# Assuming the target variable is the last column\n",
    "X = data_normalized_df.iloc[:, :-1]  # Features\n",
    "y = data_normalized_df.iloc[:, -1]   # Target\n"
   ]
  },
  {
   "cell_type": "code",
   "execution_count": 13,
   "metadata": {},
   "outputs": [],
   "source": [
    "\n",
    "# Split the data into training and test sets\n",
    "X_train, X_test, y_train, y_test = train_test_split(X, y, test_size=0.2, random_state=42)\n"
   ]
  },
  {
   "cell_type": "code",
   "execution_count": 14,
   "metadata": {},
   "outputs": [
    {
     "data": {
      "text/plain": [
       "(            c        mn        si        cr        ni        mo         v  \\\n",
       " 111  0.000000  0.013378  0.008439  0.000000  0.857075  0.370984  0.115741   \n",
       " 208  0.023256  0.016722  0.008439  0.445397  0.485469  0.329534  0.002315   \n",
       " 145  0.023256  0.000000  0.000000  0.626072  0.379228  0.516062  0.002315   \n",
       " 203  0.023256  0.023411  0.008439  0.265294  0.576465  0.322280  0.002315   \n",
       " 78   0.279070  0.000000  0.000000  0.829617  0.000000  0.525389  0.099537   \n",
       " ..        ...       ...       ...       ...       ...       ...       ...   \n",
       " 188  0.000000  0.000000  0.000000  0.817038  0.394950  0.267358  0.002315   \n",
       " 71   0.511628  0.000000  0.000000  0.177244  0.534064  0.121244  0.002315   \n",
       " 106  0.023256  0.013378  0.008439  0.000000  0.818961  0.407254  0.002315   \n",
       " 270  0.023256  0.020067  0.021097  0.645512  0.490233  0.210363  0.002315   \n",
       " 102  0.558140  0.000000  0.000000  0.514008  0.132920  0.132642  0.067130   \n",
       " \n",
       "        n     nb        co    w        al  \n",
       " 111  0.0  0.004  0.596814  0.0  0.005587  \n",
       " 208  0.0  0.004  0.000000  0.0  0.027933  \n",
       " 145  0.0  0.004  0.425087  0.0  0.670391  \n",
       " 203  0.0  0.004  0.000000  0.0  0.312849  \n",
       " 78   0.2  0.004  0.670483  0.0  0.011173  \n",
       " ..   ...    ...       ...  ...       ...  \n",
       " 188  0.0  0.004  0.213539  0.0  0.050279  \n",
       " 71   0.0  0.004  0.671976  0.0  0.000000  \n",
       " 106  0.0  0.004  0.606770  0.0  0.122905  \n",
       " 270  0.0  0.004  0.000000  0.0  0.128492  \n",
       " 102  0.0  0.004  0.616725  0.0  0.011173  \n",
       " \n",
       " [249 rows x 12 columns],\n",
       "             c        mn        si        cr        ni        mo         v  \\\n",
       " 228  0.162791  0.197324  0.061181  0.971412  0.333016  0.000000  0.002315   \n",
       " 9    0.372093  0.000000  0.000000  0.831904  0.000000  0.505699  0.111111   \n",
       " 57   0.488372  0.000000  0.116034  0.716409  0.046689  0.202073  0.078704   \n",
       " 60   0.488372  0.000000  0.103376  0.716981  0.044307  0.203109  0.002315   \n",
       " 25   0.465116  0.003344  0.101266  0.716981  0.044307  0.202073  0.002315   \n",
       " ..        ...       ...       ...       ...       ...       ...       ...   \n",
       " 196  0.023256  0.030100  0.035865  0.277873  0.575036  0.305699  0.002315   \n",
       " 211  0.000000  0.020067  0.014768  0.428245  0.499762  0.339896  0.002315   \n",
       " 225  0.000000  0.016722  0.008439  0.293882  0.485469  0.329534  0.002315   \n",
       " 109  0.279070  0.056856  0.010549  0.114351  0.479276  0.101554  0.002315   \n",
       " 114  0.372093  0.000000  0.000000  0.822756  0.000000  0.545078  0.094907   \n",
       " \n",
       "             n     nb        co    w        al  \n",
       " 228  0.000000  0.004  0.000000  0.0  0.664804  \n",
       " 9    0.333333  0.004  0.776008  0.0  0.016760  \n",
       " 57   0.000000  0.032  0.684420  0.0  0.011173  \n",
       " 60   0.000000  0.032  0.683922  0.0  0.011173  \n",
       " 25   0.000000  0.008  0.750124  0.0  0.011173  \n",
       " ..        ...    ...       ...  ...       ...  \n",
       " 196  0.000000  0.004  0.000000  0.0  0.134078  \n",
       " 211  0.000000  0.004  0.000000  0.0  0.111732  \n",
       " 225  0.000000  0.004  0.000000  0.0  0.011173  \n",
       " 109  0.000000  0.004  0.601792  0.0  0.000000  \n",
       " 114  0.866667  0.004  0.583873  0.0  0.016760  \n",
       " \n",
       " [63 rows x 12 columns],\n",
       " 111    0.760\n",
       " 208    0.040\n",
       " 145    0.004\n",
       " 203    0.080\n",
       " 78     0.000\n",
       "        ...  \n",
       " 188    0.196\n",
       " 71     0.004\n",
       " 106    0.712\n",
       " 270    0.092\n",
       " 102    0.008\n",
       " Name: ti, Length: 249, dtype: float64,\n",
       " 228    0.000\n",
       " 9      0.000\n",
       " 57     0.000\n",
       " 60     0.000\n",
       " 25     0.000\n",
       "        ...  \n",
       " 196    0.060\n",
       " 211    0.092\n",
       " 225    0.036\n",
       " 109    0.000\n",
       " 114    0.000\n",
       " Name: ti, Length: 63, dtype: float64)"
      ]
     },
     "execution_count": 14,
     "metadata": {},
     "output_type": "execute_result"
    }
   ],
   "source": [
    "X_train, X_test, y_train, y_test"
   ]
  },
  {
   "cell_type": "code",
   "execution_count": 15,
   "metadata": {},
   "outputs": [
    {
     "data": {
      "text/plain": [
       "(pandas.core.frame.DataFrame,\n",
       " pandas.core.frame.DataFrame,\n",
       " pandas.core.series.Series,\n",
       " pandas.core.series.Series)"
      ]
     },
     "execution_count": 15,
     "metadata": {},
     "output_type": "execute_result"
    }
   ],
   "source": [
    "type(X_train), type(X_test), type(y_train), type(y_test)"
   ]
  },
  {
   "cell_type": "code",
   "execution_count": 16,
   "metadata": {},
   "outputs": [
    {
     "name": "stdout",
     "output_type": "stream",
     "text": [
      "Mean Squared Error: 0.011563619707936503\n",
      "R² Score: 0.7561150278352762\n"
     ]
    },
    {
     "data": {
      "image/png": "[encoded data removed]",
      "text/plain": [
       "<Figure size 1000x600 with 1 Axes>"
      ]
     },
     "metadata": {},
     "output_type": "display_data"
    }
   ],
   "source": [
    "\n",
    "# Initialize the Random Forest Regressor\n",
    "model = RandomForestRegressor(n_estimators=100, random_state=42)\n",
    "\n",
    "# Fit the model on the training data\n",
    "model.fit(X_train, y_train)\n",
    "\n",
    "# Make predictions on the test set\n",
    "y_pred = model.predict(X_test)\n",
    "\n",
    "# Evaluate the model\n",
    "mse = mean_squared_error(y_test, y_pred)\n",
    "r2 = r2_score(y_test, y_pred)\n",
    "\n",
    "print(f\"Mean Squared Error: {mse}\")\n",
    "print(f\"R² Score: {r2}\")\n",
    "\n",
    "# Plotting actual vs. predicted values\n",
    "plt.figure(figsize=(10, 6))\n",
    "plt.scatter(y_test, y_pred, alpha=0.5)\n",
    "plt.xlabel('Actual values')\n",
    "plt.ylabel('Predicted values')\n",
    "plt.title('Actual vs. Predicted Values')\n",
    "plt.plot([y_test.min(), y_test.max()], [y_test.min(), y_test.max()], 'k--', lw=2)\n",
    "plt.show()\n",
    "\n"
   ]
  },
  {
   "cell_type": "code",
   "execution_count": 17,
   "metadata": {},
   "outputs": [
    {
     "data": {
      "image/png": "[encoded data removed]",
      "text/plain": [
       "<Figure size 1000x600 with 1 Axes>"
      ]
     },
     "metadata": {},
     "output_type": "display_data"
    }
   ],
   "source": [
    "\n",
    "# Plotting actual vs. predicted values\n",
    "plt.figure(figsize=(10, 6))\n",
    "plt.scatter(y_test, y_pred, alpha=0.5)\n",
    "plt.xlabel('Actual values')\n",
    "plt.ylabel('Predicted values')\n",
    "plt.title('Actual vs. Predicted Values')\n",
    "plt.plot([y_test.min(), y_test.max()], [y_test.min(), y_test.max()], 'k--', lw=2)\n",
    "plt.show()\n",
    "\n"
   ]
  },
  {
   "cell_type": "markdown",
   "metadata": {},
   "source": [
    "Here is how you can create an interactive scatter plot using Plotly in Python for your data:\n",
    "\n"
   ]
  },
  {
   "cell_type": "code",
   "execution_count": 18,
   "metadata": {},
   "outputs": [
    {
     "data": {
      "application/vnd.plotly.v1+json": {
       "config": {
        "plotlyServerURL": "https://plot.ly"
       },
       "data": [
        {
         "marker": {
          "color": "rgba(152, 0, 0, .8)"
         },
         "mode": "markers",
         "name": "Data",
         "type": "scatter",
         "x": [
          0,
          0,
          0,
          0,
          0,
          0,
          0.012,
          0,
          0.004,
          0,
          0.004,
          0.296,
          0,
          0,
          0,
          0.084,
          0.012,
          0.8400000000000001,
          0.376,
          0.024,
          0,
          0.096,
          0.08000000000000002,
          0,
          0.004,
          0.26,
          0.032,
          0.248,
          0.008,
          0.5599999999999999,
          0,
          0,
          0,
          0.028000000000000004,
          0.42800000000000005,
          0.07600000000000001,
          0,
          0.46399999999999997,
          0,
          0.008,
          0,
          0,
          0,
          0,
          0.09200000000000001,
          0.032,
          0.44000000000000006,
          0,
          1,
          0,
          0,
          0.024,
          0.6320000000000001,
          0,
          0,
          0.256,
          0,
          0.5599999999999999,
          0.06,
          0.09200000000000001,
          0.036,
          0,
          0
         ],
         "y": [
          0.007840000000000003,
          0,
          0,
          0,
          0,
          0,
          0.010200000000000008,
          0.0005200000000000001,
          0.010200000000000008,
          0.0006000000000000001,
          0.04219999999999992,
          0.3524400000000001,
          0,
          0.00036,
          0,
          0.09563999999999993,
          0.009560000000000008,
          0.5338000000000003,
          0.43619999999999975,
          0.05404,
          0,
          0.07679999999999988,
          0.08292,
          0.00012000000000000002,
          0.007240000000000003,
          0.3731999999999999,
          0.2834799999999998,
          0.28535999999999995,
          0.02508000000000002,
          0.7626,
          0.00124,
          0.00024,
          0,
          0.3623199999999999,
          0.7100400000000002,
          0.09643999999999994,
          0,
          0.1226399999999999,
          0.0015200000000000003,
          0.0700799999999999,
          0,
          0.00024,
          0,
          0.0024800000000000004,
          0.08551999999999998,
          0.09659999999999991,
          0.73848,
          0,
          0.8730000000000001,
          0,
          0.006720000000000001,
          0.1982399999999998,
          0.5205200000000003,
          0,
          0,
          0.3707600000000005,
          0,
          0.72848,
          0.07431999999999998,
          0.09047999999999998,
          0.03620000000000003,
          0.00024,
          0
         ]
        },
        {
         "line": {
          "color": "black",
          "dash": "dash"
         },
         "mode": "lines",
         "name": "Fit",
         "type": "scatter",
         "x": [
          0,
          1
         ],
         "y": [
          0,
          1
         ]
        }
       ],
       "layout": {
        "template": {
         "data": {
          "bar": [
           {
            "error_x": {
             "color": "#2a3f5f"
            },
            "error_y": {
             "color": "#2a3f5f"
            },
            "marker": {
             "line": {
              "color": "#E5ECF6",
              "width": 0.5
             },
             "pattern": {
              "fillmode": "overlay",
              "size": 10,
              "solidity": 0.2
             }
            },
            "type": "bar"
           }
          ],
          "barpolar": [
           {
            "marker": {
             "line": {
              "color": "#E5ECF6",
              "width": 0.5
             },
             "pattern": {
              "fillmode": "overlay",
              "size": 10,
              "solidity": 0.2
             }
            },
            "type": "barpolar"
           }
          ],
          "carpet": [
           {
            "aaxis": {
             "endlinecolor": "#2a3f5f",
             "gridcolor": "white",
             "linecolor": "white",
             "minorgridcolor": "white",
             "startlinecolor": "#2a3f5f"
            },
            "baxis": {
             "endlinecolor": "#2a3f5f",
             "gridcolor": "white",
             "linecolor": "white",
             "minorgridcolor": "white",
             "startlinecolor": "#2a3f5f"
            },
            "type": "carpet"
           }
          ],
          "choropleth": [
           {
            "colorbar": {
             "outlinewidth": 0,
             "ticks": ""
            },
            "type": "choropleth"
           }
          ],
          "contour": [
           {
            "colorbar": {
             "outlinewidth": 0,
             "ticks": ""
            },
            "colorscale": [
             [
              0,
              "#0d0887"
             ],
             [
              0.1111111111111111,
              "#46039f"
             ],
             [
              0.2222222222222222,
              "#7201a8"
             ],
             [
              0.3333333333333333,
              "#9c179e"
             ],
             [
              0.4444444444444444,
              "#bd3786"
             ],
             [
              0.5555555555555556,
              "#d8576b"
             ],
             [
              0.6666666666666666,
              "#ed7953"
             ],
             [
              0.7777777777777778,
              "#fb9f3a"
             ],
             [
              0.8888888888888888,
              "#fdca26"
             ],
             [
              1,
              "#f0f921"
             ]
            ],
            "type": "contour"
           }
          ],
          "contourcarpet": [
           {
            "colorbar": {
             "outlinewidth": 0,
             "ticks": ""
            },
            "type": "contourcarpet"
           }
          ],
          "heatmap": [
           {
            "colorbar": {
             "outlinewidth": 0,
             "ticks": ""
            },
            "colorscale": [
             [
              0,
              "#0d0887"
             ],
             [
              0.1111111111111111,
              "#46039f"
             ],
             [
              0.2222222222222222,
              "#7201a8"
             ],
             [
              0.3333333333333333,
              "#9c179e"
             ],
             [
              0.4444444444444444,
              "#bd3786"
             ],
             [
              0.5555555555555556,
              "#d8576b"
             ],
             [
              0.6666666666666666,
              "#ed7953"
             ],
             [
              0.7777777777777778,
              "#fb9f3a"
             ],
             [
              0.8888888888888888,
              "#fdca26"
             ],
             [
              1,
              "#f0f921"
             ]
            ],
            "type": "heatmap"
           }
          ],
          "heatmapgl": [
           {
            "colorbar": {
             "outlinewidth": 0,
             "ticks": ""
            },
            "colorscale": [
             [
              0,
              "#0d0887"
             ],
             [
              0.1111111111111111,
              "#46039f"
             ],
             [
              0.2222222222222222,
              "#7201a8"
             ],
             [
              0.3333333333333333,
              "#9c179e"
             ],
             [
              0.4444444444444444,
              "#bd3786"
             ],
             [
              0.5555555555555556,
              "#d8576b"
             ],
             [
              0.6666666666666666,
              "#ed7953"
             ],
             [
              0.7777777777777778,
              "#fb9f3a"
             ],
             [
              0.8888888888888888,
              "#fdca26"
             ],
             [
              1,
              "#f0f921"
             ]
            ],
            "type": "heatmapgl"
           }
          ],
          "histogram": [
           {
            "marker": {
             "pattern": {
              "fillmode": "overlay",
              "size": 10,
              "solidity": 0.2
             }
            },
            "type": "histogram"
           }
          ],
          "histogram2d": [
           {
            "colorbar": {
             "outlinewidth": 0,
             "ticks": ""
            },
            "colorscale": [
             [
              0,
              "#0d0887"
             ],
             [
              0.1111111111111111,
              "#46039f"
             ],
             [
              0.2222222222222222,
              "#7201a8"
             ],
             [
              0.3333333333333333,
              "#9c179e"
             ],
             [
              0.4444444444444444,
              "#bd3786"
             ],
             [
              0.5555555555555556,
              "#d8576b"
             ],
             [
              0.6666666666666666,
              "#ed7953"
             ],
             [
              0.7777777777777778,
              "#fb9f3a"
             ],
             [
              0.8888888888888888,
              "#fdca26"
             ],
             [
              1,
              "#f0f921"
             ]
            ],
            "type": "histogram2d"
           }
          ],
          "histogram2dcontour": [
           {
            "colorbar": {
             "outlinewidth": 0,
             "ticks": ""
            },
            "colorscale": [
             [
              0,
              "#0d0887"
             ],
             [
              0.1111111111111111,
              "#46039f"
             ],
             [
              0.2222222222222222,
              "#7201a8"
             ],
             [
              0.3333333333333333,
              "#9c179e"
             ],
             [
              0.4444444444444444,
              "#bd3786"
             ],
             [
              0.5555555555555556,
              "#d8576b"
             ],
             [
              0.6666666666666666,
              "#ed7953"
             ],
             [
              0.7777777777777778,
              "#fb9f3a"
             ],
             [
              0.8888888888888888,
              "#fdca26"
             ],
             [
              1,
              "#f0f921"
             ]
            ],
            "type": "histogram2dcontour"
           }
          ],
          "mesh3d": [
           {
            "colorbar": {
             "outlinewidth": 0,
             "ticks": ""
            },
            "type": "mesh3d"
           }
          ],
          "parcoords": [
           {
            "line": {
             "colorbar": {
              "outlinewidth": 0,
              "ticks": ""
             }
            },
            "type": "parcoords"
           }
          ],
          "pie": [
           {
            "automargin": true,
            "type": "pie"
           }
          ],
          "scatter": [
           {
            "fillpattern": {
             "fillmode": "overlay",
             "size": 10,
             "solidity": 0.2
            },
            "type": "scatter"
           }
          ],
          "scatter3d": [
           {
            "line": {
             "colorbar": {
              "outlinewidth": 0,
              "ticks": ""
             }
            },
            "marker": {
             "colorbar": {
              "outlinewidth": 0,
              "ticks": ""
             }
            },
            "type": "scatter3d"
           }
          ],
          "scattercarpet": [
           {
            "marker": {
             "colorbar": {
              "outlinewidth": 0,
              "ticks": ""
             }
            },
            "type": "scattercarpet"
           }
          ],
          "scattergeo": [
           {
            "marker": {
             "colorbar": {
              "outlinewidth": 0,
              "ticks": ""
             }
            },
            "type": "scattergeo"
           }
          ],
          "scattergl": [
           {
            "marker": {
             "colorbar": {
              "outlinewidth": 0,
              "ticks": ""
             }
            },
            "type": "scattergl"
           }
          ],
          "scattermapbox": [
           {
            "marker": {
             "colorbar": {
              "outlinewidth": 0,
              "ticks": ""
             }
            },
            "type": "scattermapbox"
           }
          ],
          "scatterpolar": [
           {
            "marker": {
             "colorbar": {
              "outlinewidth": 0,
              "ticks": ""
             }
            },
            "type": "scatterpolar"
           }
          ],
          "scatterpolargl": [
           {
            "marker": {
             "colorbar": {
              "outlinewidth": 0,
              "ticks": ""
             }
            },
            "type": "scatterpolargl"
           }
          ],
          "scatterternary": [
           {
            "marker": {
             "colorbar": {
              "outlinewidth": 0,
              "ticks": ""
             }
            },
            "type": "scatterternary"
           }
          ],
          "surface": [
           {
            "colorbar": {
             "outlinewidth": 0,
             "ticks": ""
            },
            "colorscale": [
             [
              0,
              "#0d0887"
             ],
             [
              0.1111111111111111,
              "#46039f"
             ],
             [
              0.2222222222222222,
              "#7201a8"
             ],
             [
              0.3333333333333333,
              "#9c179e"
             ],
             [
              0.4444444444444444,
              "#bd3786"
             ],
             [
              0.5555555555555556,
              "#d8576b"
             ],
             [
              0.6666666666666666,
              "#ed7953"
             ],
             [
              0.7777777777777778,
              "#fb9f3a"
             ],
             [
              0.8888888888888888,
              "#fdca26"
             ],
             [
              1,
              "#f0f921"
             ]
            ],
            "type": "surface"
           }
          ],
          "table": [
           {
            "cells": {
             "fill": {
              "color": "#EBF0F8"
             },
             "line": {
              "color": "white"
             }
            },
            "header": {
             "fill": {
              "color": "#C8D4E3"
             },
             "line": {
              "color": "white"
             }
            },
            "type": "table"
           }
          ]
         },
         "layout": {
          "annotationdefaults": {
           "arrowcolor": "#2a3f5f",
           "arrowhead": 0,
           "arrowwidth": 1
          },
          "autotypenumbers": "strict",
          "coloraxis": {
           "colorbar": {
            "outlinewidth": 0,
            "ticks": ""
           }
          },
          "colorscale": {
           "diverging": [
            [
             0,
             "#8e0152"
            ],
            [
             0.1,
             "#c51b7d"
            ],
            [
             0.2,
             "#de77ae"
            ],
            [
             0.3,
             "#f1b6da"
            ],
            [
             0.4,
             "#fde0ef"
            ],
            [
             0.5,
             "#f7f7f7"
            ],
            [
             0.6,
             "#e6f5d0"
            ],
            [
             0.7,
             "#b8e186"
            ],
            [
             0.8,
             "#7fbc41"
            ],
            [
             0.9,
             "#4d9221"
            ],
            [
             1,
             "#276419"
            ]
           ],
           "sequential": [
            [
             0,
             "#0d0887"
            ],
            [
             0.1111111111111111,
             "#46039f"
            ],
            [
             0.2222222222222222,
             "#7201a8"
            ],
            [
             0.3333333333333333,
             "#9c179e"
            ],
            [
             0.4444444444444444,
             "#bd3786"
            ],
            [
             0.5555555555555556,
             "#d8576b"
            ],
            [
             0.6666666666666666,
             "#ed7953"
            ],
            [
             0.7777777777777778,
             "#fb9f3a"
            ],
            [
             0.8888888888888888,
             "#fdca26"
            ],
            [
             1,
             "#f0f921"
            ]
           ],
           "sequentialminus": [
            [
             0,
             "#0d0887"
            ],
            [
             0.1111111111111111,
             "#46039f"
            ],
            [
             0.2222222222222222,
             "#7201a8"
            ],
            [
             0.3333333333333333,
             "#9c179e"
            ],
            [
             0.4444444444444444,
             "#bd3786"
            ],
            [
             0.5555555555555556,
             "#d8576b"
            ],
            [
             0.6666666666666666,
             "#ed7953"
            ],
            [
             0.7777777777777778,
             "#fb9f3a"
            ],
            [
             0.8888888888888888,
             "#fdca26"
            ],
            [
             1,
             "#f0f921"
            ]
           ]
          },
          "colorway": [
           "#636efa",
           "#EF553B",
           "#00cc96",
           "#ab63fa",
           "#FFA15A",
           "#19d3f3",
           "#FF6692",
           "#B6E880",
           "#FF97FF",
           "#FECB52"
          ],
          "font": {
           "color": "#2a3f5f"
          },
          "geo": {
           "bgcolor": "white",
           "lakecolor": "white",
           "landcolor": "#E5ECF6",
           "showlakes": true,
           "showland": true,
           "subunitcolor": "white"
          },
          "hoverlabel": {
           "align": "left"
          },
          "hovermode": "closest",
          "mapbox": {
           "style": "light"
          },
          "paper_bgcolor": "white",
          "plot_bgcolor": "#E5ECF6",
          "polar": {
           "angularaxis": {
            "gridcolor": "white",
            "linecolor": "white",
            "ticks": ""
           },
           "bgcolor": "#E5ECF6",
           "radialaxis": {
            "gridcolor": "white",
            "linecolor": "white",
            "ticks": ""
           }
          },
          "scene": {
           "xaxis": {
            "backgroundcolor": "#E5ECF6",
            "gridcolor": "white",
            "gridwidth": 2,
            "linecolor": "white",
            "showbackground": true,
            "ticks": "",
            "zerolinecolor": "white"
           },
           "yaxis": {
            "backgroundcolor": "#E5ECF6",
            "gridcolor": "white",
            "gridwidth": 2,
            "linecolor": "white",
            "showbackground": true,
            "ticks": "",
            "zerolinecolor": "white"
           },
           "zaxis": {
            "backgroundcolor": "#E5ECF6",
            "gridcolor": "white",
            "gridwidth": 2,
            "linecolor": "white",
            "showbackground": true,
            "ticks": "",
            "zerolinecolor": "white"
           }
          },
          "shapedefaults": {
           "line": {
            "color": "#2a3f5f"
           }
          },
          "ternary": {
           "aaxis": {
            "gridcolor": "white",
            "linecolor": "white",
            "ticks": ""
           },
           "baxis": {
            "gridcolor": "white",
            "linecolor": "white",
            "ticks": ""
           },
           "bgcolor": "#E5ECF6",
           "caxis": {
            "gridcolor": "white",
            "linecolor": "white",
            "ticks": ""
           }
          },
          "title": {
           "x": 0.05
          },
          "xaxis": {
           "automargin": true,
           "gridcolor": "white",
           "linecolor": "white",
           "ticks": "",
           "title": {
            "standoff": 15
           },
           "zerolinecolor": "white",
           "zerolinewidth": 2
          },
          "yaxis": {
           "automargin": true,
           "gridcolor": "white",
           "linecolor": "white",
           "ticks": "",
           "title": {
            "standoff": 15
           },
           "zerolinecolor": "white",
           "zerolinewidth": 2
          }
         }
        },
        "title": {
         "text": "Actual vs. Predicted Values"
        },
        "xaxis": {
         "title": {
          "text": "Actual values"
         }
        },
        "yaxis": {
         "title": {
          "text": "Predicted values"
         }
        }
       }
      }
     },
     "metadata": {},
     "output_type": "display_data"
    }
   ],
   "source": [
    "import plotly.graph_objects as go\n",
    "\n",
    "# Create a trace for the scatter plot\n",
    "trace1 = go.Scatter(\n",
    "    x=y_test,\n",
    "    y=y_pred,\n",
    "    mode='markers',\n",
    "    name='Data',\n",
    "    marker=dict(color='rgba(152, 0, 0, .8)'),\n",
    ")\n",
    "\n",
    "# Create a trace for the line\n",
    "trace2 = go.Scatter(\n",
    "    x=[y_test.min(), y_test.max()],\n",
    "    y=[y_test.min(), y_test.max()],\n",
    "    mode='lines',\n",
    "    name='Fit',\n",
    "    line=dict(color='black', dash='dash')\n",
    ")\n",
    "\n",
    "data = [trace1, trace2]\n",
    "\n",
    "layout = go.Layout(\n",
    "    title='Actual vs. Predicted Values',\n",
    "    xaxis=dict(title='Actual values'),\n",
    "    yaxis=dict(title='Predicted values'),\n",
    ")\n",
    "\n",
    "fig = go.Figure(data=data, layout=layout)\n",
    "\n",
    "fig.show()"
   ]
  },
  {
   "cell_type": "markdown",
   "metadata": {},
   "source": [
    "\n",
    "\n",
    "This code creates an interactive scatter plot of `y_test` vs `y_pred` and a line from the minimum to the maximum of `y_test`. The plot is displayed in the Jupyter notebook and is interactive, meaning you can zoom, pan, hover over data points to see their values, and so on."
   ]
  }
 ],
 "metadata": {
  "kernelspec": {
   "display_name": "steel_strength",
   "language": "python",
   "name": "python3"
  },
  "language_info": {
   "codemirror_mode": {
    "name": "ipython",
    "version": 3
   },
   "file_extension": ".py",
   "mimetype": "text/x-python",
   "name": "python",
   "nbconvert_exporter": "python",
   "pygments_lexer": "ipython3",
   "version": "3.12.2"
  }
 },
 "nbformat": 4,
 "nbformat_minor": 2
}
