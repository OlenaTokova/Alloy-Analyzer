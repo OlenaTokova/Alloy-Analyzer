{
 "cells": [
  {
   "cell_type": "markdown",
   "metadata": {},
   "source": [
    "Exponential Smoothing\n",
    "Exponential Smoothing gives more weight to recent observations, which can be more relevant for certain analyses."
   ]
  },
  {
   "cell_type": "code",
   "execution_count": 4,
   "metadata": {},
   "outputs": [],
   "source": [
    "import pandas as pd\n",
    "\n",
    "# Replace 'your_file.csv' with the path to your actual file\n",
    "data = pd.read_csv('C:\\\\Users\\\\Elena\\\\Documents\\\\GitHub\\\\steel_strength\\\\metals_data.csv')"
   ]
  },
  {
   "cell_type": "code",
   "execution_count": 9,
   "metadata": {},
   "outputs": [
    {
     "name": "stdout",
     "output_type": "stream",
     "text": [
      "Index(['c', 'mn', 'si', 'cr', 'ni', 'mo', 'v', 'n', 'nb', 'co', 'w', 'al',\n",
      "       'ti', 'c_smoothed_es'],\n",
      "      dtype='object')\n"
     ]
    }
   ],
   "source": [
    "print(data.columns)"
   ]
  },
  {
   "cell_type": "code",
   "execution_count": 10,
   "metadata": {},
   "outputs": [
    {
     "name": "stdout",
     "output_type": "stream",
     "text": [
      "     mn  mn_smoothed_es\n",
      "0  0.05         0.05000\n",
      "1  0.01         0.05000\n",
      "2  0.01         0.04200\n",
      "3  0.05         0.03560\n",
      "4  0.05         0.03848\n"
     ]
    }
   ],
   "source": [
    "from statsmodels.tsa.api import SimpleExpSmoothing\n",
    "\n",
    "# Replace 'x1' with the actual column you want to smooth\n",
    "data['mn_smoothed_es'] = SimpleExpSmoothing(data['mn']).fit(smoothing_level=0.2,optimized=False).fittedvalues\n",
    "\n",
    "# Display the original and smoothed data\n",
    "print(data[['mn', 'mn_smoothed_es']].head())"
   ]
  },
  {
   "cell_type": "code",
   "execution_count": 8,
   "metadata": {},
   "outputs": [
    {
     "name": "stdout",
     "output_type": "stream",
     "text": [
      "      c  c_smoothed_es\n",
      "0  0.02        0.02000\n",
      "1  0.18        0.02000\n",
      "2  0.00        0.05200\n",
      "3  0.01        0.04160\n",
      "4  0.01        0.03528\n"
     ]
    }
   ],
   "source": [
    "# For Exponential Smoothing, you may need statsmodels\n",
    "# pip install statsmodels\n",
    "from statsmodels.tsa.api import SimpleExpSmoothing\n",
    "\n",
    "# Assuming 'x1' is the column you want to smooth\n",
    "# The smoothing level (alpha) is between 0 and 1; adjust it as needed\n",
    "data['c_smoothed_es'] = SimpleExpSmoothing(data['c']).fit(smoothing_level=0.2,optimized=False).fittedvalues\n",
    "\n",
    "# Display the original and smoothed data\n",
    "print(data[['c', 'c_smoothed_es']].head())\n"
   ]
  }
 ],
 "metadata": {
  "kernelspec": {
   "display_name": "steel_strength",
   "language": "python",
   "name": "python3"
  },
  "language_info": {
   "codemirror_mode": {
    "name": "ipython",
    "version": 3
   },
   "file_extension": ".py",
   "mimetype": "text/x-python",
   "name": "python",
   "nbconvert_exporter": "python",
   "pygments_lexer": "ipython3",
   "version": "3.12.2"
  }
 },
 "nbformat": 4,
 "nbformat_minor": 2
}
