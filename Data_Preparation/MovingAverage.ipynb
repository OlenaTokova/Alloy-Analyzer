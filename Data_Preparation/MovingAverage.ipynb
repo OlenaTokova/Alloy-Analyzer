{
 "cells": [
  {
   "cell_type": "markdown",
   "metadata": {},
   "source": [
    "To apply smoothing techniques to our dataset, lets focus on two common methods: the Moving Average and Exponential Smoothing. These methods are useful for reducing noise, especially in time-series data, but can be applied to various types of sequential data or to smooth individual features in dataset. "
   ]
  },
  {
   "cell_type": "markdown",
   "metadata": {},
   "source": [
    "Ensure pandas is installed in your environment"
   ]
  },
  {
   "cell_type": "code",
   "execution_count": 2,
   "metadata": {},
   "outputs": [
    {
     "name": "stdout",
     "output_type": "stream",
     "text": [
      "Requirement already satisfied: pandas in c:\\programdata\\anaconda3\\envs\\steel_strength\\lib\\site-packages (2.2.1)\n",
      "Requirement already satisfied: numpy<2,>=1.26.0 in c:\\programdata\\anaconda3\\envs\\steel_strength\\lib\\site-packages (from pandas) (1.26.4)\n",
      "Requirement already satisfied: python-dateutil>=2.8.2 in c:\\users\\elena\\appdata\\roaming\\python\\python312\\site-packages (from pandas) (2.8.2)\n",
      "Requirement already satisfied: pytz>=2020.1 in c:\\programdata\\anaconda3\\envs\\steel_strength\\lib\\site-packages (from pandas) (2024.1)\n",
      "Requirement already satisfied: tzdata>=2022.7 in c:\\programdata\\anaconda3\\envs\\steel_strength\\lib\\site-packages (from pandas) (2024.1)\n",
      "Requirement already satisfied: six>=1.5 in c:\\users\\elena\\appdata\\roaming\\python\\python312\\site-packages (from python-dateutil>=2.8.2->pandas) (1.16.0)\n",
      "Note: you may need to restart the kernel to use updated packages.\n"
     ]
    }
   ],
   "source": [
    "pip install pandas"
   ]
  },
  {
   "cell_type": "markdown",
   "metadata": {},
   "source": [
    "Smoothing Techniques Implementation\n",
    "Moving Average Smoothing\n",
    "This technique smoothens the data by replacing each data point with the average of the adjacent data points defined within a window size."
   ]
  },
  {
   "cell_type": "code",
   "execution_count": 3,
   "metadata": {},
   "outputs": [
    {
     "name": "stdout",
     "output_type": "stream",
     "text": [
      "Index(['c', 'mn', 'si', 'cr', 'ni', 'mo', 'v', 'n', 'nb', 'co', 'w', 'al',\n",
      "       'ti', 'c_smoothed_ma'],\n",
      "      dtype='object')\n"
     ]
    }
   ],
   "source": [
    "print(data.columns)"
   ]
  },
  {
   "cell_type": "code",
   "execution_count": 5,
   "metadata": {},
   "outputs": [
    {
     "name": "stdout",
     "output_type": "stream",
     "text": [
      "      c  c_smoothed_ma\n",
      "0  0.02            NaN\n",
      "1  0.18            NaN\n",
      "2  0.00       0.066667\n",
      "3  0.01       0.063333\n",
      "4  0.01       0.006667\n"
     ]
    }
   ],
   "source": [
    "import pandas as pd\n",
    "\n",
    "# Load the dataset\n",
    "data = pd.read_csv('C:\\\\Users\\\\Elena\\\\Documents\\\\GitHub\\\\steel_strength\\\\metals_data.csv')\n",
    "\n",
    "# Choose a column to smooth, let's say 'x1' is your target column\n",
    "# Adjust the window size according to your needs\n",
    "window_size = 3\n",
    "data['c_smoothed_ma'] = data['c'].rolling(window=window_size).mean()\n",
    "\n",
    "# Display the original and smoothed data\n",
    "print(data[['c', 'c_smoothed_ma']].head())\n"
   ]
  }
 ],
 "metadata": {
  "kernelspec": {
   "display_name": "steel_strength",
   "language": "python",
   "name": "python3"
  },
  "language_info": {
   "codemirror_mode": {
    "name": "ipython",
    "version": 3
   },
   "file_extension": ".py",
   "mimetype": "text/x-python",
   "name": "python",
   "nbconvert_exporter": "python",
   "pygments_lexer": "ipython3",
   "version": "3.12.2"
  }
 },
 "nbformat": 4,
 "nbformat_minor": 2
}
