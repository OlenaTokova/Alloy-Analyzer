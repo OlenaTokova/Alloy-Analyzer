data0 = pd.read_csv("/kaggle/input/steel-test-data/steel_strength.csv")
display(data0[0:2].T)